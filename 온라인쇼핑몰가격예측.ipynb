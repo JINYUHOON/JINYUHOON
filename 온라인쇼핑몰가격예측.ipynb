{
  "nbformat": 4,
  "nbformat_minor": 0,
  "metadata": {
    "colab": {
      "name": "온라인쇼핑몰가격예측.ipynb",
      "private_outputs": true,
      "provenance": [],
      "collapsed_sections": [],
      "authorship_tag": "ABX9TyNPy9DSihsXAZwCeaAgOA46",
      "include_colab_link": true
    },
    "kernelspec": {
      "name": "python3",
      "display_name": "Python 3"
    },
    "language_info": {
      "name": "python"
    },
    "accelerator": "GPU"
  },
  "cells": [
    {
      "cell_type": "markdown",
      "metadata": {
        "id": "view-in-github",
        "colab_type": "text"
      },
      "source": [
        "<a href=\"https://colab.research.google.com/github/JINYUHOON/JINYUHOON/blob/main/%EC%98%A8%EB%9D%BC%EC%9D%B8%EC%87%BC%ED%95%91%EB%AA%B0%EA%B0%80%EA%B2%A9%EC%98%88%EC%B8%A1.ipynb\" target=\"_parent\"><img src=\"https://colab.research.google.com/assets/colab-badge.svg\" alt=\"Open In Colab\"/></a>"
      ]
    },
    {
      "cell_type": "code",
      "metadata": {
        "id": "TyOasn_KtV68"
      },
      "source": [
        "import os,sys\n",
        "from google.colab import drive\n",
        "drive.mount('/content/drive')\n",
        "my_path = '/content/notebooks'\n",
        "os.symlink('/content/drive/My Drive/Colab Notebooks',my_path)\n",
        "sys.path.insert(0,my_path)"
      ],
      "execution_count": null,
      "outputs": []
    },
    {
      "cell_type": "markdown",
      "metadata": {
        "id": "2kmmB8Fht_1W"
      },
      "source": [
        "아래 사항을 고려하여 대형 온라인 쇼핑몰 제품 가격 예측을 수행하세요\n",
        "- 제공되는 데이터 세트 mercari_train.csv는 제품이 여러 속성 및 제품 설명 등의 텍스트 데이터로 구성된다.\n",
        "- 데이터 전처리\n",
        "    - Null 데이터는 적절한 문자열로 치환\n",
        "    - 데이터 분포도 확인 정규성 확보\n",
        "    - item_description이 'No description yet' 인 경우 Null과 마찬가지로 적절한 값으로 변경\n",
        "    - category_name이 Null이 아닌 경우 대 중 소 분류를 분리\n",
        "\n",
        "- 피처 인코딩과 피처 벡터화\n",
        "- 릿지 회귀 모델 구축 및 평가\n",
        "- LightGBM 회귀 모델 구축과 앙상블을 이용한 최종 예측 평가"
      ]
    },
    {
      "cell_type": "code",
      "metadata": {
        "id": "tOgoe26JuzPZ"
      },
      "source": [
        "from sklearn.linear_model import Ridge, LogisticRegression\n",
        "from sklearn.model_selection import train_test_split, cross_val_score\n",
        "from sklearn.feature_extraction.text import CountVectorizer, TfidfVectorizer\n",
        "import pandas as pd\n",
        "import numpy as np\n",
        "\n",
        "\n",
        "mercari_df = pd.read_csv('/content/drive/MyDrive/cakd3 colab/textmining/dataset/mercari_train.tsv',sep='\\t')\n",
        "\n",
        "print(mercari_df.shape)\n",
        "mercari_df.head()"
      ],
      "execution_count": null,
      "outputs": []
    },
    {
      "cell_type": "code",
      "metadata": {
        "id": "vVhKeoM2-jx6"
      },
      "source": [
        "mercari_df.info()"
      ],
      "execution_count": null,
      "outputs": []
    },
    {
      "cell_type": "code",
      "metadata": {
        "id": "bEuE5s2l-n5_"
      },
      "source": [
        "import matplotlib.pyplot as plt\n",
        "import seaborn as sns\n",
        "\n",
        "y_train_df = mercari_df['price']\n",
        "plt.figure(figsize=(6,4))\n",
        "sns.distplot(y_train_df)"
      ],
      "execution_count": null,
      "outputs": []
    },
    {
      "cell_type": "code",
      "metadata": {
        "id": "8AckKILmFRSh"
      },
      "source": [
        "y_train_df = np.log1p(y_train_df)\n",
        "sns.distplot(y_train_df)"
      ],
      "execution_count": null,
      "outputs": []
    },
    {
      "cell_type": "code",
      "metadata": {
        "id": "Ag6V1zp-F0HW"
      },
      "source": [
        "mercari_df['price'] = np.log1p(mercari_df['price'])"
      ],
      "execution_count": null,
      "outputs": []
    },
    {
      "cell_type": "code",
      "metadata": {
        "id": "8qivCFYIF0Dv"
      },
      "source": [
        "boolean_cond = mercari_df['item_description'] == 'No description yet'\n",
        "mercari_df[boolean_cond]['item_description'].count()"
      ],
      "execution_count": null,
      "outputs": []
    },
    {
      "cell_type": "code",
      "metadata": {
        "id": "u83Vv4PWTc3n"
      },
      "source": [
        "def split_cat(category_name):\n",
        "    try:\n",
        "        return category_name.split('/')\n",
        "    except:\n",
        "        return ['Other_Null','Other_Null','Othet_Null']\n",
        "\n",
        "mercari_df['cat_dae'], mercari_df['cat_jung'], mercari_df['cat_so'] = zip(*mercari_df['category_name'].apply(lambda x : split_cat(x)))"
      ],
      "execution_count": null,
      "outputs": []
    },
    {
      "cell_type": "code",
      "metadata": {
        "id": "j3rbB4KxUMj8"
      },
      "source": [
        "print('대분류 유형:\\n', mercari_df['cat_dae'].value_counts())\n",
        "print('중분류 개수 : ',mercari_df['cat_jung'].nunique())\n",
        "print('소분류 개수 : ',mercari_df['cat_so'].nunique())"
      ],
      "execution_count": null,
      "outputs": []
    },
    {
      "cell_type": "code",
      "metadata": {
        "id": "r34Q8AwqUMhP"
      },
      "source": [
        "mercari_df['brand_name'] = mercari_df['brand_name'].fillna(value='Othet_Null')\n",
        "mercari_df['category_name'] = mercari_df['category_name'].fillna(value='Other_Null')\n",
        "mercari_df['item_description'] = mercari_df['item_description'].fillna(value='Other_Null')\n",
        "mercari_df.isnull().sum()"
      ],
      "execution_count": null,
      "outputs": []
    },
    {
      "cell_type": "code",
      "metadata": {
        "id": "0ffIHqR1UMey"
      },
      "source": [
        "print('brand_name의 유형건수 : ',mercari_df['brand_name'].nunique())\n",
        "print('brand_name의 샘플 5건 :\\n', mercari_df['brand_name'].value_counts()[:5])"
      ],
      "execution_count": null,
      "outputs": []
    },
    {
      "cell_type": "code",
      "metadata": {
        "id": "Ab9Nxku3UMZg"
      },
      "source": [
        "print('name의 종류 개수 :',mercari_df['name'].nunique())\n",
        "print('name sample 10건: \\n', mercari_df['name'][:10])"
      ],
      "execution_count": null,
      "outputs": []
    },
    {
      "cell_type": "code",
      "metadata": {
        "id": "qam2-9GsV4VI"
      },
      "source": [
        "pd.set_option('max_colwidth',200)\n",
        "\n",
        "print('item_description 평균 문자열 크기: ', mercari_df['item_description'].str.len().mean())\n",
        "\n",
        "mercari_df['item_description'][:2]"
      ],
      "execution_count": null,
      "outputs": []
    },
    {
      "cell_type": "code",
      "metadata": {
        "id": "ArcR7wciV4S9"
      },
      "source": [
        "cnt_vec = CountVectorizer()\n",
        "X_name = cnt_vec.fit_transform(mercari_df.name)\n",
        "\n",
        "tfidf_descp = TfidfVectorizer(max_features=50000, ngram_range=(1,3), stop_words='english')\n",
        "X_descp = tfidf_descp.fit_transform(mercari_df['item_description'])\n",
        "\n",
        "print('name vectorization shape :', X_name.shape)\n",
        "print('item_description vetorization :', X_descp.shape)"
      ],
      "execution_count": null,
      "outputs": []
    },
    {
      "cell_type": "code",
      "metadata": {
        "id": "5mgk9LP7V4Qs"
      },
      "source": [
        "from sklearn.preprocessing import LabelBinarizer\n",
        "\n",
        "lb_brand_name = LabelBinarizer(sparse_output=True)\n",
        "X_brand = lb_brand_name.fit_transform(mercari_df['brand_name'])\n",
        "\n",
        "lb_item_cond_id = LabelBinarizer(sparse_output=True)\n",
        "X_item_cond_id = lb_item_cond_id.fit_transform(mercari_df['item_condition_id'])\n",
        "\n",
        "lb_shipping = LabelBinarizer(sparse_output=True)\n",
        "X_shipping = lb_shipping.fit_transform(mercari_df['shipping'])\n",
        "\n",
        "lb_cat_dae = LabelBinarizer(sparse_output=True)\n",
        "X_cat_dae = lb_cat_dae.fit_transform(mercari_df['cat_dae'])\n",
        "\n",
        "lb_cat_dae = LabelBinarizer(sparse_output=True)\n",
        "X_cat_dae = lb_cat_dae.fit_transform(mercari_df['cat_dae'])\n",
        "\n",
        "lb_cat_jung = LabelBinarizer(sparse_output=True)\n",
        "X_cat_jung = lb_cat_jung.fit_transform(mercari_df['cat_jung'])\n",
        "\n",
        "lb_cat_so = LabelBinarizer(sparse_output=True)\n",
        "X_cat_so = lb_cat_so.fit_transform(mercari_df['cat_so'])"
      ],
      "execution_count": null,
      "outputs": []
    },
    {
      "cell_type": "code",
      "metadata": {
        "id": "SmPtBgbhV4Ob"
      },
      "source": [
        "from scipy.sparse import hstack\n",
        "import gc\n",
        "\n",
        "sparse_matrix_list = (X_name, X_descp, X_brand, X_item_cond_id, X_shipping, X_cat_dae, X_cat_jung, X_cat_so)\n",
        "\n",
        "X_features_sparse = hstack(sparse_matrix_list).tocsr()\n",
        "\n",
        "print(type(X_features_sparse), X_features_sparse.shape)\n",
        "\n",
        "del X_features_sparse\n",
        "gc.collect()"
      ],
      "execution_count": null,
      "outputs": []
    },
    {
      "cell_type": "code",
      "metadata": {
        "id": "jpUtAlsKaaPy"
      },
      "source": [
        "def rmsle(y, y_pred):\n",
        "    return np.sqrt(np.mean(np.power(np.log1p(y)- np.log1p(y_pred),2)))\n",
        "\n",
        "def evaluate_org_price(y_test, preds):\n",
        "\n",
        "    preds_exmpm = np.expm1(preds)\n",
        "    y_test_exmpm = np.expm1(y_test)\n",
        "\n",
        "    rmsle_result = rmsle(y_test_exmpm, preds_exmpm)\n",
        "    return rmsle_result"
      ],
      "execution_count": null,
      "outputs": []
    },
    {
      "cell_type": "code",
      "metadata": {
        "id": "PAHAivLTaaNo"
      },
      "source": [
        "import gc\n",
        "from scipy.sparse import hstack\n",
        "\n",
        "def model_train_predict(model, matrix_list):\n",
        "    X = hstack(matrix_list).tocsr()\n",
        "\n",
        "    X_train , X_test, y_train, y_test = train_test_split(X, mercari_df['price'],test_size=0.2, random_state=156)\n",
        "\n",
        "    model.fit(X_train,y_train)\n",
        "    preds = model.predict(X_test)\n",
        "\n",
        "    del X, X_train, y_train\n",
        "    gc.collect()\n",
        "\n",
        "    return preds, y_test"
      ],
      "execution_count": null,
      "outputs": []
    },
    {
      "cell_type": "code",
      "metadata": {
        "id": "S5R7Un9-aaLP"
      },
      "source": [
        "linear_model = Ridge(solver='lsqr', fit_intercept=False)\n",
        "\n",
        "sparse_matrix_list = (X_name, X_brand, X_item_cond_id, X_shipping, X_cat_dae, X_cat_jung, X_cat_so)\n",
        "\n",
        "linear_preds , y_test = model_train_predict(model=linear_model, matrix_list=sparse_matrix_list)\n",
        "\n",
        "print('Item Description을 제외했을 때 rmsle 값 = ', evaluate_org_price(y_test, linear_preds))\n",
        "\n",
        "\n",
        "sparse_matrix_list = (X_name, X_descp, X_brand, X_item_cond_id, X_shipping, X_cat_dae, X_cat_jung, X_cat_so)\n",
        "\n",
        "linear_preds , y_test = model_train_predict(model=linear_model, matrix_list=sparse_matrix_list)\n",
        "\n",
        "print('Item Description을 포함했을 때 rmsle 값 = ', evaluate_org_price(y_test, linear_preds))"
      ],
      "execution_count": null,
      "outputs": []
    },
    {
      "cell_type": "code",
      "metadata": {
        "id": "wVyzBwAaaaJF"
      },
      "source": [
        "from lightgbm import LGBMRegressor\n",
        "\n",
        "sparse_matrix_list = (X_name, X_descp, X_brand, X_item_cond_id, X_shipping, X_cat_dae, X_cat_jung, X_cat_so)\n",
        "\n",
        "lgbm_model = LGBMRegressor(n_estimators= 200, learning_rate=0.5, nun_leaves=125, random_state=156)\n",
        "lgbm_preds, y_test = model_train_predict(model = lgbm_model, matrix_list= sparse_matrix_list)\n",
        "\n",
        "print('LightGBM rmsle값 : ', evaluate_org_price(y_test,lgbm_preds))"
      ],
      "execution_count": null,
      "outputs": []
    },
    {
      "cell_type": "code",
      "metadata": {
        "id": "7CMF_xu8aaCW"
      },
      "source": [
        "preds = lgbm_preds * 0.45 + linear_preds * 0.55\n",
        "\n",
        "print('LightGBM 과 Ridge를  ensemble한 최종 rmlse: ', evaluate_org_price(y_test, preds) )"
      ],
      "execution_count": null,
      "outputs": []
    }
  ]
}