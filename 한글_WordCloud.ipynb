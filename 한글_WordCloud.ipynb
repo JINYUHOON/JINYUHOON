{
  "nbformat": 4,
  "nbformat_minor": 0,
  "metadata": {
    "colab": {
      "name": "한글 WordCloud.ipynb",
      "private_outputs": true,
      "provenance": [],
      "authorship_tag": "ABX9TyO03Uhfe6bLEpM5893uLEO1",
      "include_colab_link": true
    },
    "kernelspec": {
      "name": "python3",
      "display_name": "Python 3"
    },
    "language_info": {
      "name": "python"
    }
  },
  "cells": [
    {
      "cell_type": "markdown",
      "metadata": {
        "id": "view-in-github",
        "colab_type": "text"
      },
      "source": [
        "<a href=\"https://colab.research.google.com/github/JINYUHOON/JINYUHOON/blob/main/%ED%95%9C%EA%B8%80_WordCloud.ipynb\" target=\"_parent\"><img src=\"https://colab.research.google.com/assets/colab-badge.svg\" alt=\"Open In Colab\"/></a>"
      ]
    },
    {
      "cell_type": "code",
      "metadata": {
        "id": "Q96glCrX709m"
      },
      "source": [
        "# 나눔 폰트 설치\n",
        "!sudo apt-get install -y fonts-nanum\n",
        "!sudo fc-cache -fv\n",
        "!rm ~/.cache/matplotlib -rf"
      ],
      "execution_count": null,
      "outputs": []
    },
    {
      "cell_type": "code",
      "metadata": {
        "id": "4VlVT3NmLx30"
      },
      "source": [
        "import matplotlib.pyplot as plt\n",
        "\n",
        "plt.rc('font', family='NanumBarunGothic') "
      ],
      "execution_count": null,
      "outputs": []
    },
    {
      "cell_type": "code",
      "metadata": {
        "id": "FAJwWc818ATN"
      },
      "source": [
        "import os,sys\n",
        "from google.colab import drive\n",
        "drive.mount('/content/drive')\n",
        "my_path = '/content/notebooks'\n",
        "os.symlink('/content/drive/My Drive/Colab Notebooks',my_path)\n",
        "sys.path.insert(0,my_path)"
      ],
      "execution_count": null,
      "outputs": []
    },
    {
      "cell_type": "code",
      "metadata": {
        "id": "hJTEDB6T-Cy3"
      },
      "source": [
        "import pandas as pd\n",
        "from konlpy.tag import Okt\n",
        "import re\n",
        "\n",
        "okt = Okt()\n",
        "\n",
        "with open('/content/drive/MyDrive/cakd3 colab/textmining/dataset/영화 기생충_review.txt','r',\n",
        "          encoding = 'cp949') as file:\n",
        "          text = file.read()\n",
        "          print(text)"
      ],
      "execution_count": null,
      "outputs": []
    },
    {
      "cell_type": "markdown",
      "metadata": {
        "id": "yifMMljSKOrJ"
      },
      "source": [
        ""
      ]
    },
    {
      "cell_type": "code",
      "metadata": {
        "id": "vFdXgH9C-1JR"
      },
      "source": [
        "def cleanText(readData):\n",
        "    text = re.sub('[0-9]+','',readData)\n",
        "    text = re.sub('[A-Za-z]+','',text)\n",
        "    text = re.sub('[-=+,#/\\?:^$.@*\\\"※~&%ㆍ!』\\\\‘|\\(\\)\\[\\]\\<\\>`\\'…》]', '', text)\n",
        "    return text\n",
        "\n",
        "text = cleanText(text)\n",
        "text\n",
        "\n",
        "morph = okt.pos(text)\n",
        "word_list = []\n",
        "\n",
        "for word, tag in morph:\n",
        "    if (tag == 'Noun') | (tag== 'Verb') | (tag == 'Adjective'):\n",
        "        word_list.append(word)\n",
        "print(word_list)"
      ],
      "execution_count": null,
      "outputs": []
    },
    {
      "cell_type": "code",
      "metadata": {
        "id": "Sj6CAWebBPnN"
      },
      "source": [
        "from collections import Counter\n",
        "\n",
        "count = Counter(word_list)\n",
        "n_words = dict(count.most_common())\n",
        "n_words"
      ],
      "execution_count": null,
      "outputs": []
    },
    {
      "cell_type": "code",
      "metadata": {
        "id": "g_U9os_NDA1D"
      },
      "source": [
        "data = pd.Series(n_words)\n",
        "\n",
        "df = pd.DataFrame(data, columns=['cnt'])\n",
        "df10 = df.sort_values(by='cnt',ascending=False).head(10)\n",
        "df10"
      ],
      "execution_count": null,
      "outputs": []
    },
    {
      "cell_type": "code",
      "metadata": {
        "id": "k5HXCcMODy-N"
      },
      "source": [
        "df10.reset_index(inplace=True)\n",
        "df10.head()"
      ],
      "execution_count": null,
      "outputs": []
    },
    {
      "cell_type": "code",
      "metadata": {
        "id": "bLiPeIzqD2xZ"
      },
      "source": [
        "import seaborn as sns\n",
        "import warnings\n",
        "warnings.filterwarnings('ignore')\n",
        "import matplotlib.pyplot as plt\n",
        "\n",
        "plt.rc('font',family='NanumBarunGothic')\n",
        "sns.barplot(x='index', y='cnt',data=df10)"
      ],
      "execution_count": null,
      "outputs": []
    },
    {
      "cell_type": "code",
      "metadata": {
        "id": "KgvfBtNxINRV"
      },
      "source": [
        "def cleanText(readData):\n",
        "  text = re.sub('[0-9]+','',readData)\n",
        "  text = re.sub('[A-Za-z]+','',text)\n",
        "  text = re.sub('[-=+,#/\\?:^$.@*\\\"※~&%ㆍ·!』\\\\‘’|\\(\\)\\[\\]\\<\\>`\\'…》]','',text)\n",
        "  return text\n",
        "text = cleanText(text)\n",
        "\n",
        "morph = okt.pos(text)\n",
        "noun_list = []\n",
        "for word, tag in morph:\n",
        "  if tag == 'Noun':\n",
        "    noun_list.append(word)\n",
        "print(noun_list)"
      ],
      "execution_count": null,
      "outputs": []
    },
    {
      "cell_type": "code",
      "metadata": {
        "id": "q2aWIcjHP-Ck"
      },
      "source": [
        "from collections import Counter\n",
        "count = Counter(noun_list)\n",
        "words = dict(count.most_common())\n",
        "words"
      ],
      "execution_count": null,
      "outputs": []
    },
    {
      "cell_type": "code",
      "metadata": {
        "id": "z9GpwtToQCUH"
      },
      "source": [
        "\n",
        "!pip install wordcloud"
      ],
      "execution_count": null,
      "outputs": []
    },
    {
      "cell_type": "code",
      "metadata": {
        "id": "8OHslgO0QD0a"
      },
      "source": [
        "from wordcloud import WordCloud\n",
        "import matplotlib.pyplot as plt\n",
        "\n",
        "wordcloud = WordCloud(font_path = '/usr/share/fonts/truetype/nanum/NanumBarunGothic.ttf', background_color = 'white',\n",
        "                      colormap = 'Accent_r', width=1500, height=1000).generate_from_frequencies(words)\n",
        "plt.imshow(wordcloud)\n",
        "plt.axis('off')\n",
        "plt.show()\n",
        "# NanumSquareR.ttf"
      ],
      "execution_count": null,
      "outputs": []
    }
  ]
}